{
 "cells": [
  {
   "cell_type": "markdown",
   "id": "a7d7d615",
   "metadata": {},
   "source": [
    "# Can you write a program to find the average of numbers in a list in Python?"
   ]
  },
  {
   "cell_type": "code",
   "execution_count": 1,
   "id": "26e30e0e",
   "metadata": {},
   "outputs": [
    {
     "name": "stdout",
     "output_type": "stream",
     "text": [
      "Enter the number of elements to be inserted: 3\n",
      "Enter element: 24\n",
      "Enter element: 25\n",
      "Enter element: 26\n",
      "Average of elements in the list 25.0\n"
     ]
    }
   ],
   "source": [
    "n=int(input(\"Enter the number of elements to be inserted: \"))\n",
    "a=[]\n",
    "for i in range(0,n):\n",
    "    elem=int(input(\"Enter element: \"))\n",
    "    a.append(elem)\n",
    "avg=sum(a)/n\n",
    "print(\"Average of elements in the list\",round(avg,2))"
   ]
  },
  {
   "cell_type": "markdown",
   "id": "35280094",
   "metadata": {},
   "source": [
    "# Write a program to reverse a number in Python?"
   ]
  },
  {
   "cell_type": "code",
   "execution_count": 2,
   "id": "d3345592",
   "metadata": {},
   "outputs": [
    {
     "name": "stdout",
     "output_type": "stream",
     "text": [
      "Enter number: 123\n",
      "The reverse of the number: 321\n"
     ]
    }
   ],
   "source": [
    "n=int(input(\"Enter number: \"))\n",
    "rev=0\n",
    "while(n>0):\n",
    "    dig=n%10\n",
    "    rev=rev*10+dig\n",
    "    n=n//10\n",
    "print(\"The reverse of the number:\",rev)"
   ]
  },
  {
   "cell_type": "markdown",
   "id": "f954c6d0",
   "metadata": {},
   "source": [
    "# Write a program to find the sum of the digits of a number in Python?"
   ]
  },
  {
   "cell_type": "code",
   "execution_count": 3,
   "id": "516942b4",
   "metadata": {},
   "outputs": [
    {
     "name": "stdout",
     "output_type": "stream",
     "text": [
      "Enter a number:234\n",
      "The total sum of digits is: 9\n"
     ]
    }
   ],
   "source": [
    "n=int(input(\"Enter a number:\"))\n",
    "tot=0\n",
    "while(n>0):\n",
    "    dig=n%10\n",
    "    tot=tot+dig\n",
    "    n=n//10\n",
    "print(\"The total sum of digits is:\",tot)"
   ]
  },
  {
   "cell_type": "markdown",
   "id": "94b678db",
   "metadata": {},
   "source": [
    "# Write a Python Program to Check if a Number is a Palindrome or not?"
   ]
  },
  {
   "cell_type": "code",
   "execution_count": 4,
   "id": "34e21217",
   "metadata": {},
   "outputs": [
    {
     "name": "stdout",
     "output_type": "stream",
     "text": [
      "Enter number:121\n",
      "The number is a palindrome!\n"
     ]
    }
   ],
   "source": [
    "n=int(input(\"Enter number:\"))\n",
    "temp=n\n",
    "rev=0\n",
    "while(n>0):\n",
    "    dig=n%10\n",
    "    rev=rev*10+dig\n",
    "    n=n//10\n",
    "if(temp==rev):\n",
    "    print(\"The number is a palindrome!\")\n",
    "else:\n",
    "    print(\"The number isn't a palindrome!\")"
   ]
  },
  {
   "cell_type": "markdown",
   "id": "6a4487e2",
   "metadata": {},
   "source": [
    "# Write a Python Program to Count the Number of Digits in a Number?"
   ]
  },
  {
   "cell_type": "code",
   "execution_count": 5,
   "id": "6ad9bfbc",
   "metadata": {},
   "outputs": [
    {
     "name": "stdout",
     "output_type": "stream",
     "text": [
      "Enter number:1234\n",
      "The number of digits in the number is: 4\n"
     ]
    }
   ],
   "source": [
    "n=int(input(\"Enter number:\"))\n",
    "count=0\n",
    "while(n>0):\n",
    "    count=count+1\n",
    "    n=n//10\n",
    "print(\"The number of digits in the number is:\",count)"
   ]
  },
  {
   "cell_type": "markdown",
   "id": "86fd58a4",
   "metadata": {},
   "source": [
    "# Write a Python Program to Print Table of a Given Number?"
   ]
  },
  {
   "cell_type": "code",
   "execution_count": 6,
   "id": "b644d20c",
   "metadata": {},
   "outputs": [
    {
     "name": "stdout",
     "output_type": "stream",
     "text": [
      "Enter the number to print the tables for:3\n",
      "3 x 1 = 3\n",
      "3 x 2 = 6\n",
      "3 x 3 = 9\n",
      "3 x 4 = 12\n",
      "3 x 5 = 15\n",
      "3 x 6 = 18\n",
      "3 x 7 = 21\n",
      "3 x 8 = 24\n",
      "3 x 9 = 27\n",
      "3 x 10 = 30\n"
     ]
    }
   ],
   "source": [
    "n=int(input(\"Enter the number to print the tables for:\"))\n",
    "for i in range(1,11):\n",
    "    print(n,\"x\",i,\"=\",n*i)"
   ]
  },
  {
   "cell_type": "markdown",
   "id": "ec1e9bc1",
   "metadata": {},
   "source": [
    "# Write a Python Program to Check if a Number is a Prime Number?"
   ]
  },
  {
   "cell_type": "code",
   "execution_count": 7,
   "id": "d34723f3",
   "metadata": {},
   "outputs": [
    {
     "name": "stdout",
     "output_type": "stream",
     "text": [
      "Enter number: 7\n",
      "Number is prime\n"
     ]
    }
   ],
   "source": [
    "a=int(input(\"Enter number: \"))\n",
    "k=0\n",
    "for i in range(2,a//2+1):\n",
    "    if(a%i==0):\n",
    "        k=k+1\n",
    "if(k<=0):\n",
    "    print(\"Number is prime\")\n",
    "else:\n",
    "    print(\"Number isn't prime\")"
   ]
  },
  {
   "cell_type": "markdown",
   "id": "e54fcf86",
   "metadata": {},
   "source": [
    "# Write a Python Program to Check if a Number is an Armstrong Number?"
   ]
  },
  {
   "cell_type": "code",
   "execution_count": 8,
   "id": "8ba11c04",
   "metadata": {},
   "outputs": [
    {
     "name": "stdout",
     "output_type": "stream",
     "text": [
      "Enter any number: 145\n",
      "The number isn't an arsmtrong number. \n"
     ]
    }
   ],
   "source": [
    "n=int(input(\"Enter any number: \"))\n",
    "a=list(map(int,str(n)))\n",
    "b=list(map(lambda x:x**3,a))\n",
    "if(sum(b)==n):\n",
    "    print(\"The number is an armstrong number. \")\n",
    "else:\n",
    "    print(\"The number isn't an arsmtrong number. \")"
   ]
  },
  {
   "cell_type": "markdown",
   "id": "77895443",
   "metadata": {},
   "source": [
    "# Write a Python Program to Check if a Number is a Perfect Number?"
   ]
  },
  {
   "cell_type": "code",
   "execution_count": 9,
   "id": "a57acd60",
   "metadata": {},
   "outputs": [
    {
     "name": "stdout",
     "output_type": "stream",
     "text": [
      "Enter any number: 6\n",
      "The number is a Perfect number!\n"
     ]
    }
   ],
   "source": [
    "n = int(input(\"Enter any number: \"))\n",
    "sum1 = 0\n",
    "for i in range(1, n):\n",
    "    if(n % i == 0):\n",
    "        sum1 = sum1 + i\n",
    "if (sum1 == n):\n",
    "    print(\"The number is a Perfect number!\")\n",
    "else:\n",
    "    print(\"The number is not a Perfect number!\")"
   ]
  },
  {
   "cell_type": "markdown",
   "id": "2a5d610d",
   "metadata": {},
   "source": [
    "# Write a Python Program to Check if a Number is a Strong Number?"
   ]
  },
  {
   "cell_type": "code",
   "execution_count": 10,
   "id": "d21ff3d3",
   "metadata": {},
   "outputs": [
    {
     "name": "stdout",
     "output_type": "stream",
     "text": [
      "Enter a number:145\n",
      "Given number is a strong number\n"
     ]
    }
   ],
   "source": [
    "sum=0  \n",
    "#user to enter the number  \n",
    "num=int(input(\"Enter a number:\"))  \n",
    "# temporary variable  store copy of the original number  \n",
    "temp=num  \n",
    "# Using while loop  \n",
    "while(num):  \n",
    "    # intialize with 1  \n",
    "    i=1  \n",
    "    # fact variable with 1  \n",
    "    fact=1  \n",
    "    rem=num%10  \n",
    "    while(i<=rem):  \n",
    "        fact=fact*i   # Find factorial of each number  \n",
    "        i=i+1  \n",
    "    sum=sum+fact  \n",
    "    num=num//10  \n",
    "if(sum==temp):  \n",
    "    print(\"Given number is a strong number\")  \n",
    "else:  \n",
    "    print(\"Given number is not a strong number\")  "
   ]
  },
  {
   "cell_type": "markdown",
   "id": "a81eb3f3",
   "metadata": {},
   "source": [
    "# Write a Python Program to Find the Second Largest Number in a List?"
   ]
  },
  {
   "cell_type": "code",
   "execution_count": 11,
   "id": "7d0fc22c",
   "metadata": {},
   "outputs": [],
   "source": [
    "#sort the array \n",
    "#return the arr[n-2] "
   ]
  },
  {
   "cell_type": "markdown",
   "id": "aec71291",
   "metadata": {},
   "source": [
    "# Write a Python Program to Swap the First and Last Value of a List?"
   ]
  },
  {
   "cell_type": "code",
   "execution_count": 12,
   "id": "ead94282",
   "metadata": {},
   "outputs": [
    {
     "name": "stdout",
     "output_type": "stream",
     "text": [
      "Enter the number of elements in list:4\n",
      "Enter element1:1\n",
      "Enter element2:2\n",
      "Enter element3:3\n",
      "Enter element4:4\n",
      "New list is:\n",
      "[4, 2, 3, 1]\n"
     ]
    }
   ],
   "source": [
    "a=[]\n",
    "n= int(input(\"Enter the number of elements in list:\"))\n",
    "for x in range(0,n):\n",
    "    element=int(input(\"Enter element\" + str(x+1) + \":\"))\n",
    "    a.append(element)\n",
    "temp=a[0]\n",
    "a[0]=a[n-1]\n",
    "a[n-1]=temp\n",
    "print(\"New list is:\")\n",
    "print(a)"
   ]
  },
  {
   "cell_type": "markdown",
   "id": "c98c9c02",
   "metadata": {},
   "source": [
    "# Write a Python Program to Check if a String is a Palindrome or Not?"
   ]
  },
  {
   "cell_type": "code",
   "execution_count": 14,
   "id": "80205ab2",
   "metadata": {},
   "outputs": [
    {
     "name": "stdout",
     "output_type": "stream",
     "text": [
      "Enter string:gopi\n",
      "The string isn't a palindrome\n"
     ]
    }
   ],
   "source": [
    "string=input(\"Enter string:\")\n",
    "if(string==string[::-1]):\n",
    "    print(\"The string is a palindrome\")\n",
    "else:\n",
    "    print(\"The string isn't a palindrome\")"
   ]
  },
  {
   "cell_type": "markdown",
   "id": "bfd4338a",
   "metadata": {},
   "source": [
    "# Write a Python Program to Count the Number of Vowels in a String?"
   ]
  },
  {
   "cell_type": "code",
   "execution_count": 16,
   "id": "bb1fe72a",
   "metadata": {},
   "outputs": [
    {
     "name": "stdout",
     "output_type": "stream",
     "text": [
      "Enter string:Gopi\n",
      "Number of vowels are:\n",
      "2\n"
     ]
    }
   ],
   "source": [
    "string=input(\"Enter string:\")\n",
    "vowels=0\n",
    "for i in string:\n",
    "    if(i=='a' or i=='e' or i=='i' or i=='o' or i=='u' or i=='A' or i=='E' or i=='I' or i=='O' or i=='U'):\n",
    "        vowels=vowels+1\n",
    "print(\"Number of vowels are:\")\n",
    "print(vowels)"
   ]
  },
  {
   "cell_type": "markdown",
   "id": "74e43b1d",
   "metadata": {},
   "source": [
    "# Write a Python Program to Check Common Letters in Two Input Strings?"
   ]
  },
  {
   "cell_type": "code",
   "execution_count": 19,
   "id": "fede0a46",
   "metadata": {},
   "outputs": [
    {
     "name": "stdout",
     "output_type": "stream",
     "text": [
      "Enter first string:Noob\n",
      "Enter second string:Coder\n",
      "The common letters are:\n",
      "o\n"
     ]
    }
   ],
   "source": [
    "s1=input(\"Enter first string:\")\n",
    "s2=input(\"Enter second string:\")\n",
    "a=list(set(s1)&set(s2))\n",
    "print(\"The common letters are:\")\n",
    "for i in a:\n",
    "    print(i)"
   ]
  },
  {
   "cell_type": "markdown",
   "id": "364d74c9",
   "metadata": {},
   "source": [
    "# Write a program in Python to produce Star triangle?"
   ]
  },
  {
   "cell_type": "code",
   "execution_count": 20,
   "id": "1b167753",
   "metadata": {},
   "outputs": [
    {
     "name": "stdout",
     "output_type": "stream",
     "text": [
      "        *\n",
      "       ***\n",
      "      *****\n",
      "     *******\n",
      "    *********\n",
      "   ***********\n",
      "  *************\n",
      " ***************\n",
      "*****************\n"
     ]
    }
   ],
   "source": [
    "\n",
    "def pyfunc(r):\n",
    "    for x in range(r):\n",
    "        print(' '*(r-x-1)+'*'*(2*x+1))    \n",
    "pyfunc(9)"
   ]
  },
  {
   "cell_type": "markdown",
   "id": "af392f6e",
   "metadata": {},
   "source": [
    "# Write a Program to add two integers >0 without using the plus operator."
   ]
  },
  {
   "cell_type": "code",
   "execution_count": 26,
   "id": "1eeb1d99",
   "metadata": {},
   "outputs": [
    {
     "name": "stdout",
     "output_type": "stream",
     "text": [
      "12\n"
     ]
    }
   ],
   "source": [
    "def add_nums(num1, num2):\n",
    "    while num2 != 0:\n",
    "        data = num1 & num2\n",
    "        num1 = num1 ^ num2\n",
    "        num2 = data << 1\n",
    "    return num1\n",
    "print(add_nums(2, 10))\n"
   ]
  },
  {
   "cell_type": "markdown",
   "id": "dc1c9cb3",
   "metadata": {},
   "source": [
    "# Python program to print Fibonacci series program in using Iterative methods?"
   ]
  },
  {
   "cell_type": "code",
   "execution_count": 28,
   "id": "1974fbc2",
   "metadata": {},
   "outputs": [
    {
     "name": "stdout",
     "output_type": "stream",
     "text": [
      "please give a number for fibonacci series : 5\n",
      "fibonacci series are : \n",
      "0 1 1 2 3 "
     ]
    }
   ],
   "source": [
    "first,second=0,1\n",
    "n = int(input(\"please give a number for fibonacci series : \"))\n",
    "print(\"fibonacci series are : \")\n",
    "for i in range(0,n):\n",
    "    if i<=1:\n",
    "        result=i\n",
    "    else:\n",
    "        result = first + second;\n",
    "        first = second;\n",
    "        second = result;\n",
    "    print(result,end=\" \")"
   ]
  },
  {
   "cell_type": "markdown",
   "id": "b98902a3",
   "metadata": {},
   "source": [
    "# Python program to calculate the square root of a number?"
   ]
  },
  {
   "cell_type": "code",
   "execution_count": 29,
   "id": "54634cdc",
   "metadata": {},
   "outputs": [
    {
     "name": "stdout",
     "output_type": "stream",
     "text": [
      "Enter a number to find square root : 6\n",
      "square roots =  2.449489742783178\n"
     ]
    }
   ],
   "source": [
    "import math\n",
    "#take input from the user\n",
    "num = int(input(\"Enter a number to find square root : \"))\n",
    "#check if the input number is negative\n",
    "if num<0:\n",
    "    print(\"Negative numbers can't have square roots\")\n",
    "else:\n",
    "    print(\"square roots = \",math.sqrt(num))"
   ]
  },
  {
   "cell_type": "code",
   "execution_count": null,
   "id": "e0068fda",
   "metadata": {},
   "outputs": [],
   "source": []
  }
 ],
 "metadata": {
  "kernelspec": {
   "display_name": "Python 3 (ipykernel)",
   "language": "python",
   "name": "python3"
  },
  "language_info": {
   "codemirror_mode": {
    "name": "ipython",
    "version": 3
   },
   "file_extension": ".py",
   "mimetype": "text/x-python",
   "name": "python",
   "nbconvert_exporter": "python",
   "pygments_lexer": "ipython3",
   "version": "3.9.12"
  }
 },
 "nbformat": 4,
 "nbformat_minor": 5
}
